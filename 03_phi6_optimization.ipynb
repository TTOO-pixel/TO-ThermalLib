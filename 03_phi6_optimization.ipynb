{
  "nbformat": 4,
  "nbformat_minor": 0,
  "metadata": {
    "colab": {
      "provenance": []
    },
    "kernelspec": {
      "name": "python3",
      "display_name": "Python 3"
    },
    "language_info": {
      "name": "python"
    }
  },
  "cells": [
    {
      "cell_type": "code",
      "execution_count": null,
      "metadata": {
        "colab": {
          "base_uri": "https://localhost:8080/",
          "height": 286
        },
        "id": "rcO3WfTQWP2S",
        "outputId": "8a5fb1cc-b23d-4220-b0af-30999bd0181e"
      },
      "outputs": [
        {
          "output_type": "error",
          "ename": "SyntaxError",
          "evalue": "invalid non-printable character U+E001 (ipython-input-2-3932425926.py, line 3)",
          "traceback": [
            "\u001b[0;36m  File \u001b[0;32m\"/tmp/ipython-input-2-3932425926.py\"\u001b[0;36m, line \u001b[0;32m3\u001b[0m\n\u001b[0;31m    Este notebook optimiza los parámetros del potencial inflacionario con correcciones polinómicas hasta orden \\phi^6, buscando estabilidad del vacío y comportamiento físico realista.\u001b[0m\n\u001b[0m                                                                                                               ^\u001b[0m\n\u001b[0;31mSyntaxError\u001b[0m\u001b[0;31m:\u001b[0m invalid non-printable character U+E001\n"
          ]
        }
      ],
      "source": [
        "# 03 - Optimización del Potencial $\\phi^6$\n",
        "\n",
        "# Este notebook optimiza los parámetros del potencial inflacionario con correcciones polinómicas hasta orden $\\phi^6$, buscando estabilidad del vacío y comportamiento físico realista.\n",
        "import numpy as np\n",
        "import matplotlib.pyplot as plt\n",
        "from scipy.optimize import minimize\n",
        "\n",
        "# Definimos el potencial con parámetros ajustables\n",
        "def V(phi, alpha, beta, delta):\n",
        "    return np.exp(-0.95 * phi) * (1 + alpha * phi**2 + beta * phi**4 + delta * phi**6)\n",
        "\n",
        "# Función objetivo para minimizar el valor del potencial\n",
        "def objective(params):\n",
        "    alpha, beta, delta = params\n",
        "    phi = np.linspace(0, 10, 1000)\n",
        "    return np.min(V(phi, alpha, beta, delta))\n",
        "\n",
        "# Rango inicial de parámetros\n",
        "initial_guess = [1e-3, 8e-5, 5e-7]\n",
        "bounds = [(1e-5, 1e-2), (1e-6, 1e-3), (1e-9, 1e-5)]\n",
        "\n",
        "# Optimización\n",
        "res = minimize(objective, initial_guess, bounds=bounds)\n",
        "alpha_opt, beta_opt, delta_opt = res.x\n",
        "\n",
        "print(\"Parámetros óptimos:\")\n",
        "print(f\"α = {alpha_opt:.2e}, β = {beta_opt:.2e}, δ = {delta_opt:.2e}\")\n",
        "\n",
        "# Visualización del potencial optimizado\n",
        "phi_vals = np.linspace(0, 10, 1000)\n",
        "V_vals = V(phi_vals, alpha_opt, beta_opt, delta_opt)\n",
        "\n",
        "plt.figure(figsize=(10,6))\n",
        "plt.plot(phi_vals, V_vals, label='Potencial Optimizado $V(\\\\phi)$')\n",
        "plt.xlabel('$\\\\phi$')\n",
        "plt.ylabel('$V(\\\\phi)$')\n",
        "plt.title('Optimización del Potencial con $\\\\phi^6$')\n",
        "plt.grid(True)\n",
        "plt.legend()\n",
        "plt.savefig(\"figures/potencial_phi6_opt.svg\")  # Guarda en carpeta figures/\n",
        "plt.show()\n",
        "from scipy.optimize import minimize\n",
        "\n",
        "# Definimos el potencial con parámetros ajustables\n",
        "def V(phi, alpha, beta, delta):\n",
        "    return np.exp(-0.95 * phi) * (1 + alpha * phi**2 + beta * phi**4 + delta * phi**6)\n",
        "\n",
        "# Función objetivo para minimizar el valor del potencial\n",
        "def objective(params):\n",
        "    alpha, beta, delta = params\n",
        "    phi = np.linspace(0, 10, 1000)\n",
        "    return np.min(V(phi, alpha, beta, delta))\n",
        "\n",
        "# Rango inicial de parámetros\n",
        "initial_guess = [1e-3, 8e-5, 5e-7]\n",
        "bounds = [(1e-5, 1e-2), (1e-6, 1e-3), (1e-9, 1e-5)]\n",
        "\n",
        "# Optimización\n",
        "res = minimize(objective, initial_guess, bounds=bounds)\n",
        "alpha_opt, beta_opt, delta_opt = res.x\n",
        "\n",
        "print(\"Parámetros óptimos:\")\n",
        "print(f\"α = {alpha_opt:.2e}, β = {beta_opt:.2e}, δ = {delta_opt:.2e}\")\n",
        "\n",
        "# Visualización del potencial optimizado\n",
        "phi_vals = np.linspace(0, 10, 1000)\n",
        "V_vals = V(phi_vals, alpha_opt, beta_opt, delta_opt)\n",
        "\n",
        "plt.figure(figsize=(10,6))\n",
        "plt.plot(phi_vals, V_vals, label='Potencial Optimizado $V(\\\\phi)$')\n",
        "plt.xlabel('$\\\\phi$')\n",
        "plt.ylabel('$V(\\\\phi)$')\n",
        "plt.title('Optimización del Potencial con $\\\\phi^6$')\n",
        "plt.grid(True)\n",
        "plt.legend()\n",
        "plt.savefig(\"figures/potencial_phi6_opt.svg\")  # Guarda en carpeta figures/\n",
        "plt.show()"
      ]
    }
  ]
}