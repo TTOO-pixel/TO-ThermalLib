{
 "cells": [
  {
   "cell_type": "markdown",
   "id": "a3c5f30a",
   "metadata": {},
   "source": [
    "# 06 - Teleportación Cuántica con Geometría No Conmutativa\n",
    "Simulación del impacto del tensor $\\theta^{\\mu\\nu}$ sobre la fidelidad cuántica."
   ]
  },
  {
   "cell_type": "code",
   "execution_count": null,
   "id": "3b028d7f",
   "metadata": {},
   "outputs": [],
   "source": [
    "\n",
    "import numpy as np\n",
    "import matplotlib.pyplot as plt\n",
    "\n",
    "theta = np.linspace(0, 0.01, 100)\n",
    "fidelidad = 1 - 2 * theta**2 + 1e-5 * np.random.randn(len(theta))\n",
    "\n",
    "plt.figure(figsize=(10, 6))\n",
    "plt.plot(theta, fidelidad, label=\"Fidelidad $F(\\theta)$\")\n",
    "plt.xlabel(\"No-localidad $\\theta^{\\mu\\nu}$\")\n",
    "plt.ylabel(\"Fidelidad de Teleportación\")\n",
    "plt.title(\"Impacto de la Geometría No Conmutativa en la Teleportación Cuántica\")\n",
    "plt.grid(True)\n",
    "plt.legend()\n",
    "plt.savefig(\"figures/quantum_teleportation.svg\")\n",
    "plt.show()\n"
   ]
  }
 ],
 "metadata": {},
 "nbformat": 4,
 "nbformat_minor": 5
}
