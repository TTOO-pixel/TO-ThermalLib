{
 "cells": [
  {
   "cell_type": "markdown",
   "id": "5795efc2",
   "metadata": {},
   "source": [
    "# 04 - Potencial $\\phi^6$ y Termalización Espontánea\n",
    "Simula el potencial $V(\\phi)$ y muestra la convergencia térmica a un estado estable."
   ]
  },
  {
   "cell_type": "code",
   "execution_count": null,
   "id": "c2a5247c",
   "metadata": {},
   "outputs": [],
   "source": [
    "\n",
    "import numpy as np\n",
    "import matplotlib.pyplot as plt\n",
    "\n",
    "def V(phi, alpha=1e-3, beta=1e-4, delta=5e-6):\n",
    "    return np.exp(-0.95 * phi) * (1 + alpha * phi**2 + beta * phi**4 + delta * phi**6)\n",
    "\n",
    "phi = np.linspace(0, 10, 1000)\n",
    "temps = np.linspace(0.1, 2.0, 10)\n",
    "\n",
    "plt.figure(figsize=(10, 6))\n",
    "for T in temps:\n",
    "    V_T = V(phi) * np.exp(-phi / T)\n",
    "    plt.plot(phi, V_T, label=f'T={T:.1f}')\n",
    "plt.title(\"Termalización espontánea con potencial $\\phi^6$\")\n",
    "plt.xlabel(\"$\\phi$\")\n",
    "plt.ylabel(\"$V_T(\\phi)$\")\n",
    "plt.grid(True)\n",
    "plt.legend()\n",
    "plt.savefig(\"figures/thermalization_simulation.svg\")\n",
    "plt.show()\n"
   ]
  }
 ],
 "metadata": {},
 "nbformat": 4,
 "nbformat_minor": 5
}
