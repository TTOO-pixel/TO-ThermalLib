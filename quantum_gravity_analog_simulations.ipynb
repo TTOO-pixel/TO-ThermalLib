{
 "cells": [
  {
   "cell_type": "markdown",
   "id": "0c70c408",
   "metadata": {},
   "source": [
    "# Simulaciones Análogas de Gravedad Cuántica\n",
    "Correlaciones tipo agujero de gusano (ER=EPR) en redes cuánticas simuladas."
   ]
  },
  {
   "cell_type": "code",
   "execution_count": null,
   "id": "b1aa0cf2",
   "metadata": {},
   "outputs": [],
   "source": [
    "\n",
    "import numpy as np\n",
    "import matplotlib.pyplot as plt\n",
    "\n",
    "epsilon = np.linspace(0, 0.1, 200)\n",
    "corr = np.cos(np.pi * epsilon)**2\n",
    "\n",
    "plt.figure(figsize=(10,6))\n",
    "plt.plot(epsilon, corr, label='Correlación EPR deformada')\n",
    "plt.xlabel('Parámetro de deformación $\\varepsilon$')\n",
    "plt.ylabel('Correlación entre extremos')\n",
    "plt.title('Simulación de Agujero de Gusano Cuántico')\n",
    "plt.grid(True)\n",
    "plt.legend()\n",
    "plt.savefig(\"figures/wormhole_correlation.svg\")\n",
    "plt.show()\n"
   ]
  }
 ],
 "metadata": {},
 "nbformat": 4,
 "nbformat_minor": 5
}
