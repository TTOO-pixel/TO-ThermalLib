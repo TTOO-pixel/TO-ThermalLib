{
 "cells": [
  {
   "cell_type": "markdown",
   "id": "23ac3b2c",
   "metadata": {},
   "source": [
    "# 03 - Teleportación Cuántica con Geometría No Conmutativa\n",
    "Este notebook simula el efecto de un tensor de no-localidad θ^{μν} sobre la fidelidad en una teleportación cuántica básica."
   ]
  },
  {
   "cell_type": "code",
   "execution_count": null,
   "id": "e6d5fc30",
   "metadata": {},
   "outputs": [],
   "source": [
    "\n",
    "import numpy as np\n",
    "import matplotlib.pyplot as plt\n",
    "\n",
    "# Parámetros simulados de no-localidad (theta) y fidelidad teórica\n",
    "theta_values = np.linspace(0, 0.01, 100)\n",
    "fidelidades = 1 - 2 * theta_values**2  # aproximación simplificada\n",
    "\n",
    "# Gráfico de fidelidad vs. no-localidad\n",
    "plt.figure(figsize=(10, 6))\n",
    "plt.plot(theta_values, fidelidades, label='Fidelidad $F(\\theta)$')\n",
    "plt.xlabel('No-localidad $\\theta^{\\mu\\nu}$')\n",
    "plt.ylabel('Fidelidad de Teleportación')\n",
    "plt.title('Impacto de la No-localidad sobre la Fidelidad Cuántica')\n",
    "plt.grid(True)\n",
    "plt.ylim(0.98, 1.01)\n",
    "plt.legend()\n",
    "plt.savefig(\"figures/teleportacion_theta.svg\")\n",
    "plt.show()\n"
   ]
  }
 ],
 "metadata": {},
 "nbformat": 4,
 "nbformat_minor": 5
}
